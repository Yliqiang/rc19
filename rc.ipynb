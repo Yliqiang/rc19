{
 "cells": [
  {
   "cell_type": "code",
   "execution_count": 71,
   "metadata": {},
   "outputs": [
    {
     "name": "stdout",
     "output_type": "stream",
     "text": [
      "dataset\n"
     ]
    }
   ],
   "source": [
    "import h5py\n",
    "import os\n",
    "import shutil \n",
    "from os import listdir\n",
    "\n",
    "def check_DS_Store(file):\n",
    "    return file == '.DS_Store'\n",
    "\n",
    "new_folder = 'dataset'\n",
    "if not os.path.exists(new_folder):\n",
    "    os.mkdir(new_folder)\n",
    "    \n",
    "    root_dir = 'MillionSongSubset/data/'\n",
    "    for file in os.listdir(root_dir):\n",
    "        if not check_DS_Store(file):\n",
    "            for l1 in os.listdir(root_dir + file):\n",
    "                if not check_DS_Store(l1):\n",
    "                    for l2 in os.listdir(root_dir + file +'/' + l1):\n",
    "                        if not check_DS_Store(l2):\n",
    "                            for l3 in os.listdir(root_dir + file + '/' + l1 + '/' + l2):\n",
    "                               shutil.copy(root_dir + file + '/' + l1 + '/' + l2 + '/' + l3, new_folder)"
   ]
  },
  {
   "cell_type": "code",
   "execution_count": null,
   "metadata": {},
   "outputs": [],
   "source": []
  }
 ],
 "metadata": {
  "kernelspec": {
   "display_name": "Python 3",
   "language": "python",
   "name": "python3"
  },
  "language_info": {
   "codemirror_mode": {
    "name": "ipython",
    "version": 3
   },
   "file_extension": ".py",
   "mimetype": "text/x-python",
   "name": "python",
   "nbconvert_exporter": "python",
   "pygments_lexer": "ipython3",
   "version": "3.7.1"
  }
 },
 "nbformat": 4,
 "nbformat_minor": 2
}
